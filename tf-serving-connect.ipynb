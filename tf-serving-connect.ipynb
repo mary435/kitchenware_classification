{
 "cells": [
  {
   "cell_type": "code",
   "execution_count": 2,
   "id": "d47e525f",
   "metadata": {},
   "outputs": [
    {
     "name": "stdout",
     "output_type": "stream",
     "text": [
      "Requirement already satisfied: grpcio==1.42.0 in /opt/anaconda3/envs/model/lib/python3.9/site-packages (1.42.0)\n",
      "Collecting tensorflow-serving-api==2.7.0\n",
      "  Using cached tensorflow_serving_api-2.7.0-py2.py3-none-any.whl (37 kB)\n",
      "Requirement already satisfied: six>=1.5.2 in /opt/anaconda3/envs/model/lib/python3.9/site-packages (from grpcio==1.42.0) (1.16.0)\n",
      "Requirement already satisfied: tensorflow<3,>=2.7.0 in /opt/anaconda3/envs/model/lib/python3.9/site-packages (from tensorflow-serving-api==2.7.0) (2.9.1)\n",
      "Requirement already satisfied: protobuf>=3.6.0 in /opt/anaconda3/envs/model/lib/python3.9/site-packages (from tensorflow-serving-api==2.7.0) (3.20.1)\n",
      "Requirement already satisfied: h5py>=2.9.0 in /opt/anaconda3/envs/model/lib/python3.9/site-packages (from tensorflow<3,>=2.7.0->tensorflow-serving-api==2.7.0) (3.7.0)\n",
      "Requirement already satisfied: termcolor>=1.1.0 in /opt/anaconda3/envs/model/lib/python3.9/site-packages (from tensorflow<3,>=2.7.0->tensorflow-serving-api==2.7.0) (2.1.0)\n",
      "Requirement already satisfied: keras<2.10.0,>=2.9.0rc0 in /opt/anaconda3/envs/model/lib/python3.9/site-packages (from tensorflow<3,>=2.7.0->tensorflow-serving-api==2.7.0) (2.9.0)\n",
      "Requirement already satisfied: packaging in /opt/anaconda3/envs/model/lib/python3.9/site-packages (from tensorflow<3,>=2.7.0->tensorflow-serving-api==2.7.0) (21.3)\n",
      "Requirement already satisfied: setuptools in /opt/anaconda3/envs/model/lib/python3.9/site-packages (from tensorflow<3,>=2.7.0->tensorflow-serving-api==2.7.0) (65.5.0)\n",
      "Collecting libclang>=13.0.0\n",
      "  Using cached libclang-14.0.6-py2.py3-none-macosx_10_9_x86_64.whl (13.2 MB)\n",
      "Collecting protobuf>=3.6.0\n",
      "  Using cached protobuf-3.19.6-cp39-cp39-macosx_10_9_x86_64.whl (980 kB)\n",
      "Requirement already satisfied: tensorflow-estimator<2.10.0,>=2.9.0rc0 in /opt/anaconda3/envs/model/lib/python3.9/site-packages (from tensorflow<3,>=2.7.0->tensorflow-serving-api==2.7.0) (2.9.0)\n",
      "Requirement already satisfied: wrapt>=1.11.0 in /opt/anaconda3/envs/model/lib/python3.9/site-packages (from tensorflow<3,>=2.7.0->tensorflow-serving-api==2.7.0) (1.14.1)\n",
      "Requirement already satisfied: keras-preprocessing>=1.1.1 in /opt/anaconda3/envs/model/lib/python3.9/site-packages (from tensorflow<3,>=2.7.0->tensorflow-serving-api==2.7.0) (1.1.2)\n",
      "Requirement already satisfied: absl-py>=1.0.0 in /opt/anaconda3/envs/model/lib/python3.9/site-packages (from tensorflow<3,>=2.7.0->tensorflow-serving-api==2.7.0) (1.3.0)\n",
      "Collecting flatbuffers<2,>=1.12\n",
      "  Using cached flatbuffers-1.12-py2.py3-none-any.whl (15 kB)\n",
      "Requirement already satisfied: typing-extensions>=3.6.6 in /opt/anaconda3/envs/model/lib/python3.9/site-packages (from tensorflow<3,>=2.7.0->tensorflow-serving-api==2.7.0) (4.4.0)\n",
      "Requirement already satisfied: astunparse>=1.6.0 in /opt/anaconda3/envs/model/lib/python3.9/site-packages (from tensorflow<3,>=2.7.0->tensorflow-serving-api==2.7.0) (1.6.3)\n",
      "Requirement already satisfied: gast<=0.4.0,>=0.2.1 in /opt/anaconda3/envs/model/lib/python3.9/site-packages (from tensorflow<3,>=2.7.0->tensorflow-serving-api==2.7.0) (0.4.0)\n",
      "Requirement already satisfied: tensorboard<2.10,>=2.9 in /opt/anaconda3/envs/model/lib/python3.9/site-packages (from tensorflow<3,>=2.7.0->tensorflow-serving-api==2.7.0) (2.9.0)\n",
      "Requirement already satisfied: google-pasta>=0.1.1 in /opt/anaconda3/envs/model/lib/python3.9/site-packages (from tensorflow<3,>=2.7.0->tensorflow-serving-api==2.7.0) (0.2.0)\n",
      "Requirement already satisfied: opt-einsum>=2.3.2 in /opt/anaconda3/envs/model/lib/python3.9/site-packages (from tensorflow<3,>=2.7.0->tensorflow-serving-api==2.7.0) (3.3.0)\n",
      "Collecting tensorflow-io-gcs-filesystem>=0.23.1\n",
      "  Using cached tensorflow_io_gcs_filesystem-0.28.0-cp39-cp39-macosx_10_14_x86_64.whl (1.6 MB)\n",
      "Requirement already satisfied: numpy>=1.20 in /opt/anaconda3/envs/model/lib/python3.9/site-packages (from tensorflow<3,>=2.7.0->tensorflow-serving-api==2.7.0) (1.22.3)\n",
      "Requirement already satisfied: wheel<1.0,>=0.23.0 in /opt/anaconda3/envs/model/lib/python3.9/site-packages (from astunparse>=1.6.0->tensorflow<3,>=2.7.0->tensorflow-serving-api==2.7.0) (0.35.1)\n",
      "Requirement already satisfied: tensorboard-plugin-wit>=1.6.0 in /opt/anaconda3/envs/model/lib/python3.9/site-packages (from tensorboard<2.10,>=2.9->tensorflow<3,>=2.7.0->tensorflow-serving-api==2.7.0) (1.6.0)\n",
      "Requirement already satisfied: tensorboard-data-server<0.7.0,>=0.6.0 in /opt/anaconda3/envs/model/lib/python3.9/site-packages (from tensorboard<2.10,>=2.9->tensorflow<3,>=2.7.0->tensorflow-serving-api==2.7.0) (0.6.1)\n",
      "Requirement already satisfied: google-auth<3,>=1.6.3 in /opt/anaconda3/envs/model/lib/python3.9/site-packages (from tensorboard<2.10,>=2.9->tensorflow<3,>=2.7.0->tensorflow-serving-api==2.7.0) (2.6.0)\n",
      "Requirement already satisfied: google-auth-oauthlib<0.5,>=0.4.1 in /opt/anaconda3/envs/model/lib/python3.9/site-packages (from tensorboard<2.10,>=2.9->tensorflow<3,>=2.7.0->tensorflow-serving-api==2.7.0) (0.4.4)\n",
      "Requirement already satisfied: markdown>=2.6.8 in /opt/anaconda3/envs/model/lib/python3.9/site-packages (from tensorboard<2.10,>=2.9->tensorflow<3,>=2.7.0->tensorflow-serving-api==2.7.0) (3.3.4)\n",
      "Requirement already satisfied: werkzeug>=1.0.1 in /opt/anaconda3/envs/model/lib/python3.9/site-packages (from tensorboard<2.10,>=2.9->tensorflow<3,>=2.7.0->tensorflow-serving-api==2.7.0) (2.0.3)\n",
      "Requirement already satisfied: requests<3,>=2.21.0 in /opt/anaconda3/envs/model/lib/python3.9/site-packages (from tensorboard<2.10,>=2.9->tensorflow<3,>=2.7.0->tensorflow-serving-api==2.7.0) (2.28.1)\n",
      "Requirement already satisfied: pyparsing!=3.0.5,>=2.0.2 in /opt/anaconda3/envs/model/lib/python3.9/site-packages (from packaging->tensorflow<3,>=2.7.0->tensorflow-serving-api==2.7.0) (3.0.9)\n",
      "Requirement already satisfied: pyasn1-modules>=0.2.1 in /opt/anaconda3/envs/model/lib/python3.9/site-packages (from google-auth<3,>=1.6.3->tensorboard<2.10,>=2.9->tensorflow<3,>=2.7.0->tensorflow-serving-api==2.7.0) (0.2.8)\n",
      "Requirement already satisfied: cachetools<6.0,>=2.0.0 in /opt/anaconda3/envs/model/lib/python3.9/site-packages (from google-auth<3,>=1.6.3->tensorboard<2.10,>=2.9->tensorflow<3,>=2.7.0->tensorflow-serving-api==2.7.0) (4.2.2)\n",
      "Requirement already satisfied: rsa<5,>=3.1.4 in /opt/anaconda3/envs/model/lib/python3.9/site-packages (from google-auth<3,>=1.6.3->tensorboard<2.10,>=2.9->tensorflow<3,>=2.7.0->tensorflow-serving-api==2.7.0) (4.7.2)\n",
      "Requirement already satisfied: requests-oauthlib>=0.7.0 in /opt/anaconda3/envs/model/lib/python3.9/site-packages (from google-auth-oauthlib<0.5,>=0.4.1->tensorboard<2.10,>=2.9->tensorflow<3,>=2.7.0->tensorflow-serving-api==2.7.0) (1.3.0)\n",
      "Requirement already satisfied: idna<4,>=2.5 in /opt/anaconda3/envs/model/lib/python3.9/site-packages (from requests<3,>=2.21.0->tensorboard<2.10,>=2.9->tensorflow<3,>=2.7.0->tensorflow-serving-api==2.7.0) (3.4)\n",
      "Requirement already satisfied: urllib3<1.27,>=1.21.1 in /opt/anaconda3/envs/model/lib/python3.9/site-packages (from requests<3,>=2.21.0->tensorboard<2.10,>=2.9->tensorflow<3,>=2.7.0->tensorflow-serving-api==2.7.0) (1.26.13)\n",
      "Requirement already satisfied: charset-normalizer<3,>=2 in /opt/anaconda3/envs/model/lib/python3.9/site-packages (from requests<3,>=2.21.0->tensorboard<2.10,>=2.9->tensorflow<3,>=2.7.0->tensorflow-serving-api==2.7.0) (2.0.4)\n",
      "Requirement already satisfied: certifi>=2017.4.17 in /opt/anaconda3/envs/model/lib/python3.9/site-packages (from requests<3,>=2.21.0->tensorboard<2.10,>=2.9->tensorflow<3,>=2.7.0->tensorflow-serving-api==2.7.0) (2022.9.24)\n",
      "Requirement already satisfied: pyasn1<0.5.0,>=0.4.6 in /opt/anaconda3/envs/model/lib/python3.9/site-packages (from pyasn1-modules>=0.2.1->google-auth<3,>=1.6.3->tensorboard<2.10,>=2.9->tensorflow<3,>=2.7.0->tensorflow-serving-api==2.7.0) (0.4.8)\n",
      "Requirement already satisfied: oauthlib>=3.0.0 in /opt/anaconda3/envs/model/lib/python3.9/site-packages (from requests-oauthlib>=0.7.0->google-auth-oauthlib<0.5,>=0.4.1->tensorboard<2.10,>=2.9->tensorflow<3,>=2.7.0->tensorflow-serving-api==2.7.0) (3.2.1)\n",
      "Installing collected packages: libclang, flatbuffers, tensorflow-io-gcs-filesystem, protobuf, tensorflow-serving-api\n",
      "  Attempting uninstall: flatbuffers\n",
      "    Found existing installation: flatbuffers 20210226132247\n",
      "    Uninstalling flatbuffers-20210226132247:\n",
      "      Successfully uninstalled flatbuffers-20210226132247\n"
     ]
    },
    {
     "name": "stdout",
     "output_type": "stream",
     "text": [
      "  Attempting uninstall: protobuf\n",
      "    Found existing installation: protobuf 3.20.1\n",
      "    Uninstalling protobuf-3.20.1:\n",
      "      Successfully uninstalled protobuf-3.20.1\n",
      "Successfully installed flatbuffers-1.12 libclang-14.0.6 protobuf-3.19.6 tensorflow-io-gcs-filesystem-0.28.0 tensorflow-serving-api-2.7.0\n"
     ]
    }
   ],
   "source": [
    "!pip install grpcio==1.42.0 tensorflow-serving-api==2.7.0"
   ]
  },
  {
   "cell_type": "code",
   "execution_count": 3,
   "id": "76234f87",
   "metadata": {},
   "outputs": [
    {
     "name": "stdout",
     "output_type": "stream",
     "text": [
      "Collecting keras-image-helper\n",
      "  Using cached keras_image_helper-0.0.1-py3-none-any.whl (4.6 kB)\n",
      "Requirement already satisfied: numpy in /opt/anaconda3/envs/model/lib/python3.9/site-packages (from keras-image-helper) (1.22.3)\n",
      "Collecting pillow\n",
      "  Using cached Pillow-9.3.0-cp39-cp39-macosx_10_10_x86_64.whl (3.3 MB)\n",
      "Installing collected packages: pillow, keras-image-helper\n",
      "Successfully installed keras-image-helper-0.0.1 pillow-9.3.0\n"
     ]
    }
   ],
   "source": [
    "!pip install keras-image-helper"
   ]
  },
  {
   "cell_type": "code",
   "execution_count": 4,
   "id": "f72ac171",
   "metadata": {},
   "outputs": [],
   "source": [
    "import grpc\n",
    "\n",
    "import tensorflow as tf\n",
    "\n",
    "from tensorflow_serving.apis import predict_pb2\n",
    "from tensorflow_serving.apis import prediction_service_pb2_grpc"
   ]
  },
  {
   "cell_type": "code",
   "execution_count": 5,
   "id": "43e11c92",
   "metadata": {},
   "outputs": [],
   "source": [
    "host = 'localhost:8500'\n",
    "\n",
    "channel = grpc.insecure_channel(host)\n",
    "\n",
    "stub = prediction_service_pb2_grpc.PredictionServiceStub(channel)"
   ]
  },
  {
   "cell_type": "code",
   "execution_count": 6,
   "id": "4a01158c",
   "metadata": {},
   "outputs": [],
   "source": [
    "from keras_image_helper import create_preprocessor"
   ]
  },
  {
   "cell_type": "code",
   "execution_count": 7,
   "id": "da158c3c",
   "metadata": {},
   "outputs": [],
   "source": [
    "preprocessor = create_preprocessor('xception', target_size=(299,299))"
   ]
  },
  {
   "cell_type": "code",
   "execution_count": 8,
   "id": "2df05b8a",
   "metadata": {},
   "outputs": [],
   "source": [
    "# plate example \n",
    "url = 'https://raw.githubusercontent.com/mary435/kitchenware_classification/main/images/6172.jpg'\n",
    "X = preprocessor.from_url(url)"
   ]
  },
  {
   "cell_type": "code",
   "execution_count": 10,
   "id": "e3501aee",
   "metadata": {},
   "outputs": [],
   "source": [
    "def np_to_protobuf(data):\n",
    "    return tf.make_tensor_proto(data, shape=data.shape)"
   ]
  },
  {
   "cell_type": "code",
   "execution_count": 11,
   "id": "fc61bf95",
   "metadata": {},
   "outputs": [],
   "source": [
    "pb_request = predict_pb2.PredictRequest()\n",
    "\n",
    "pb_request.model_spec.name = 'kitchenware-model'\n",
    "pb_request.model_spec.signature_name = 'serving_default'\n",
    "\n",
    "pb_request.inputs['input_45'].CopyFrom(np_to_protobuf(X))\n"
   ]
  },
  {
   "cell_type": "code",
   "execution_count": 12,
   "id": "8dba914b",
   "metadata": {},
   "outputs": [],
   "source": [
    "pb_response = stub.Predict(pb_request, timeout=20.0)"
   ]
  },
  {
   "cell_type": "code",
   "execution_count": 13,
   "id": "3ab6f235",
   "metadata": {},
   "outputs": [],
   "source": [
    "preds = pb_response.outputs['dense_35'].float_val"
   ]
  },
  {
   "cell_type": "code",
   "execution_count": 14,
   "id": "5dc729bc",
   "metadata": {},
   "outputs": [],
   "source": [
    "classes = ['cup', 'fork', 'glass', 'knife', 'plate', 'spoon']"
   ]
  },
  {
   "cell_type": "code",
   "execution_count": 15,
   "id": "959e9f48",
   "metadata": {},
   "outputs": [
    {
     "data": {
      "text/plain": [
       "{'cup': -0.4962674379348755,\n",
       " 'fork': -20.078845977783203,\n",
       " 'glass': -1.2485648393630981,\n",
       " 'knife': -6.5643463134765625,\n",
       " 'plate': 25.220046997070312,\n",
       " 'spoon': -23.530792236328125}"
      ]
     },
     "execution_count": 15,
     "metadata": {},
     "output_type": "execute_result"
    }
   ],
   "source": [
    "dict(zip(classes, preds))"
   ]
  },
  {
   "cell_type": "code",
   "execution_count": 17,
   "id": "271c23f6",
   "metadata": {},
   "outputs": [
    {
     "data": {
      "text/plain": [
       "'plate'"
      ]
     },
     "execution_count": 17,
     "metadata": {},
     "output_type": "execute_result"
    }
   ],
   "source": [
    "result = dict(zip(preds, classes))\n",
    "result[max(result)]"
   ]
  },
  {
   "cell_type": "code",
   "execution_count": null,
   "id": "46f80186",
   "metadata": {},
   "outputs": [],
   "source": []
  }
 ],
 "metadata": {
  "kernelspec": {
   "display_name": "Python 3 (ipykernel)",
   "language": "python",
   "name": "python3"
  },
  "language_info": {
   "codemirror_mode": {
    "name": "ipython",
    "version": 3
   },
   "file_extension": ".py",
   "mimetype": "text/x-python",
   "name": "python",
   "nbconvert_exporter": "python",
   "pygments_lexer": "ipython3",
   "version": "3.9.15"
  }
 },
 "nbformat": 4,
 "nbformat_minor": 5
}
